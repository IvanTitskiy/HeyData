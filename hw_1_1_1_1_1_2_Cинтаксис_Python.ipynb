{
  "nbformat": 4,
  "nbformat_minor": 0,
  "metadata": {
    "colab": {
      "provenance": []
    },
    "kernelspec": {
      "name": "python3",
      "display_name": "Python 3"
    },
    "language_info": {
      "name": "python"
    }
  },
  "cells": [
    {
      "cell_type": "markdown",
      "source": [
        "#Домашнє завдання до теми \"Синтаксис Python\"\n",
        "\n",
        "В ДЗ першого модулю важливою умовою виконання завдань є те, що ми не імпортуємо жодних бібліотек, а робимо все на чистому Python, використовуючи лише базовий функціонал. Це необхідно аби відпрацювати роботу з базовими типами даних. А використовувати бібліотеки ми ще навчимось далі :)"
      ],
      "metadata": {
        "id": "tvPKWXfD7yRv"
      }
    },
    {
      "cell_type": "markdown",
      "source": [
        "1. Створіть змінну, яка буде зберігати кількість яблук. І надайте їй значення 5. Виведіть значення змінної на екран."
      ],
      "metadata": {
        "id": "xE1KHmUbQVbC"
      }
    },
    {
      "cell_type": "code",
      "source": [
        "number_apples = 5\n",
        "print (number_apples)"
      ],
      "metadata": {
        "id": "iz5QpN-vQUtN",
        "outputId": "1d1902c4-f382-4ad0-bff4-eaa91e634e9f",
        "colab": {
          "base_uri": "https://localhost:8080/"
        }
      },
      "execution_count": 1,
      "outputs": [
        {
          "output_type": "stream",
          "name": "stdout",
          "text": [
            "5\n"
          ]
        }
      ]
    },
    {
      "cell_type": "markdown",
      "source": [
        "2. Виведіть тип змінної, створеної в завданні (1)."
      ],
      "metadata": {
        "id": "wx6RsBHAQd9q"
      }
    },
    {
      "cell_type": "code",
      "source": [
        "type (number_apples)"
      ],
      "metadata": {
        "id": "f48l2PhiQi86",
        "outputId": "2d8a824c-e129-4df1-b799-0d866b38498c",
        "colab": {
          "base_uri": "https://localhost:8080/"
        }
      },
      "execution_count": 4,
      "outputs": [
        {
          "output_type": "execute_result",
          "data": {
            "text/plain": [
              "int"
            ]
          },
          "metadata": {},
          "execution_count": 4
        }
      ]
    },
    {
      "cell_type": "markdown",
      "source": [
        "3. Додайте до значення змінної, створеної в завданні (1) число `12` і виведіть результат на екран з допомогою команди `print()`."
      ],
      "metadata": {
        "id": "UEc59pPcQnva"
      }
    },
    {
      "cell_type": "code",
      "source": [
        "number_apples = number_apples + 12\n",
        "print (number_apples)"
      ],
      "metadata": {
        "id": "gu-vkERpQoCY",
        "outputId": "49d9a438-b9b7-49b1-c0e1-fa34874ad93d",
        "colab": {
          "base_uri": "https://localhost:8080/"
        }
      },
      "execution_count": 6,
      "outputs": [
        {
          "output_type": "stream",
          "name": "stdout",
          "text": [
            "29\n"
          ]
        }
      ]
    },
    {
      "cell_type": "markdown",
      "source": [
        "4. Запустіть код нижче аби створити дві змінні."
      ],
      "metadata": {
        "id": "yOztaNuqqcMy"
      }
    },
    {
      "cell_type": "code",
      "source": [
        "a = 48\n",
        "b = 3"
      ],
      "metadata": {
        "id": "kbXeQSgcqncV"
      },
      "execution_count": 7,
      "outputs": []
    },
    {
      "cell_type": "markdown",
      "source": [
        "Створіть нову клітинку нижче цієї з допомогою натискання англійської літери `B`, коли ви НЕ в режимі редагування клітинки. В створеній клітинці створіть змінну `c`, яка буде містити результат ділення `a` на `b`."
      ],
      "metadata": {
        "id": "9ojIRMw3qvw8"
      }
    },
    {
      "cell_type": "code",
      "source": [
        "c = a/b\n",
        "c"
      ],
      "metadata": {
        "id": "iMCZ7x9aaFkq",
        "outputId": "8e066c35-92dd-45c2-b888-6e3a7c1320f5",
        "colab": {
          "base_uri": "https://localhost:8080/"
        }
      },
      "execution_count": 9,
      "outputs": [
        {
          "output_type": "execute_result",
          "data": {
            "text/plain": [
              "16.0"
            ]
          },
          "metadata": {},
          "execution_count": 9
        }
      ]
    },
    {
      "cell_type": "code",
      "source": [
        "a, b, c\n",
        "type (a), type (b), type (c)"
      ],
      "metadata": {
        "id": "L3XmJLv8aaK6",
        "outputId": "c43d35d7-a385-4009-bb97-b5d875985cde",
        "colab": {
          "base_uri": "https://localhost:8080/"
        }
      },
      "execution_count": 12,
      "outputs": [
        {
          "output_type": "execute_result",
          "data": {
            "text/plain": [
              "(int, int, float)"
            ]
          },
          "metadata": {},
          "execution_count": 12
        }
      ]
    },
    {
      "cell_type": "markdown",
      "source": [
        "Створіть ще одну нову клітинку, тільки тепер вище цієї. Для цього натисніть  англійську літеру `A`, коли ви НЕ в режимі редагування клітинки. Виведіть в новоствореній клітинці значення і тип кожної зі змінних `a`, `b`, `c`. Проаналізуйте результат.\n"
      ],
      "metadata": {
        "id": "XcmIZ24wq4px"
      }
    },
    {
      "cell_type": "markdown",
      "source": [
        "У Python, коли ви ділите одне ціле число на інше, результат буде автоматично приведений до типу float, якщо він не є цілим числом. Це робиться для того, щоб забезпечити більш точний результат ділення, особливо коли результат міг би бути десятковим числом."
      ],
      "metadata": {
        "id": "v9rj7B4-sGaG"
      }
    },
    {
      "cell_type": "markdown",
      "source": [
        "5. Перегляньте наступний код, подумайте, що він виведе в результаті, та потім, запустіть його."
      ],
      "metadata": {
        "id": "irjcdM8puaEx"
      }
    },
    {
      "cell_type": "code",
      "source": [
        "a = 10\n",
        "a = 12\n",
        "a = 15\n",
        "\n",
        "b = 4\n",
        "b = 8\n",
        "b = 14\n",
        "\n",
        "c = 3\n",
        "c = 6\n",
        "c = 9\n",
        "\n",
        "\n",
        "a + b + c"
      ],
      "metadata": {
        "id": "KmhCY0ttt8rW",
        "outputId": "f19d0dba-0a9a-4609-e529-087a2bd2dff6",
        "colab": {
          "base_uri": "https://localhost:8080/"
        }
      },
      "execution_count": 13,
      "outputs": [
        {
          "output_type": "execute_result",
          "data": {
            "text/plain": [
              "38"
            ]
          },
          "metadata": {},
          "execution_count": 13
        }
      ]
    },
    {
      "cell_type": "markdown",
      "source": [
        "В клітинці нижче закоментуйте деякі рядки так, аби в результаті виконання останнього рядка коду (`a + b + c`) вивелось `17`.\n",
        "Увага! Рядки треба саме закоментувати, а не видалити.\n",
        "Можна зручно коментувати рядки з допомогою комбінації клавіш `Ctrl + /` (`Command + /` для Mac)"
      ],
      "metadata": {
        "id": "JrUTyGyQufwq"
      }
    },
    {
      "cell_type": "code",
      "source": [
        "a = 10\n",
        "# a = 12\n",
        "# a = 15\n",
        "\n",
        "b = 4\n",
        "# b = 8\n",
        "# b = 14\n",
        "\n",
        "c = 3\n",
        "# c = 6\n",
        "# c = 9\n",
        "\n",
        "\n",
        "a + b + c"
      ],
      "metadata": {
        "id": "R4VXgSQKwVoc",
        "outputId": "3510c4d1-36ce-4f8d-f4cc-2dfc70bac534",
        "colab": {
          "base_uri": "https://localhost:8080/"
        }
      },
      "execution_count": 14,
      "outputs": [
        {
          "output_type": "execute_result",
          "data": {
            "text/plain": [
              "17"
            ]
          },
          "metadata": {},
          "execution_count": 14
        }
      ]
    },
    {
      "cell_type": "code",
      "source": [],
      "metadata": {
        "id": "i8sp4QDGbMcx"
      },
      "execution_count": null,
      "outputs": []
    }
  ]
}